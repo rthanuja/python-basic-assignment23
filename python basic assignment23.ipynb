{
 "cells": [
  {
   "cell_type": "code",
   "execution_count": 1,
   "id": "56d49634",
   "metadata": {},
   "outputs": [
    {
     "name": "stdout",
     "output_type": "stream",
     "text": [
      "1 2 8\n"
     ]
    }
   ],
   "source": [
    "#1. What is the result of the code, and why?\n",
    "def func(a, b=6, c=8):\n",
    "    print(a, b, c)\n",
    "func(1, 2)"
   ]
  },
  {
   "cell_type": "code",
   "execution_count": null,
   "id": "841b432a",
   "metadata": {},
   "outputs": [],
   "source": [
    "when default arguments are present in function definition even if we don't pass the argument during function call default value \n",
    "will be considered but default arguments should follow non default arguments.(so c value becomes 8 )\n",
    "if a value is passed for default arguments then it overrides the default value(so,b becomes 2) "
   ]
  },
  {
   "cell_type": "code",
   "execution_count": 2,
   "id": "0719efe4",
   "metadata": {},
   "outputs": [
    {
     "name": "stdout",
     "output_type": "stream",
     "text": [
      "1 2 3\n"
     ]
    }
   ],
   "source": [
    "#2. What is the result of this code, and why?\n",
    "def func(a, b, c=5):\n",
    "    print(a, b, c)\n",
    "func(1, c=3, b=2)"
   ]
  },
  {
   "cell_type": "code",
   "execution_count": null,
   "id": "d96c434d",
   "metadata": {},
   "outputs": [],
   "source": [
    "here keyword arguments are passed so they do not necessarily be in the order of parameters in function definition and all \n",
    "keywords should match.keyword argyments should follow positional arguments\n",
    "so a=1,b=2 and c=3"
   ]
  },
  {
   "cell_type": "code",
   "execution_count": 3,
   "id": "432e855a",
   "metadata": {},
   "outputs": [
    {
     "name": "stdout",
     "output_type": "stream",
     "text": [
      "1 {'c': 3, 'b': 2}\n"
     ]
    }
   ],
   "source": [
    "#4. What does this code print, and why?\n",
    "def func(a, **kargs):\n",
    "    print(a, kargs)\n",
    "func(a=1, c=3, b=2)"
   ]
  },
  {
   "cell_type": "code",
   "execution_count": null,
   "id": "b32e3fbc",
   "metadata": {},
   "outputs": [],
   "source": [
    "** is used for arbitrary keyword arguments so they will be wrapped in dictionary\n",
    "a is a positional argument"
   ]
  },
  {
   "cell_type": "code",
   "execution_count": 4,
   "id": "2818343f",
   "metadata": {},
   "outputs": [
    {
     "name": "stdout",
     "output_type": "stream",
     "text": [
      "1 5 6 5\n"
     ]
    }
   ],
   "source": [
    "#5. What gets printed by this, and explain?\n",
    "def func(a, b, c=8, d=5):\n",
    "    print(a, b, c, d)\n",
    "func(1, *(5, 6))"
   ]
  },
  {
   "cell_type": "code",
   "execution_count": null,
   "id": "37bb364d",
   "metadata": {},
   "outputs": [],
   "source": [
    "* is used for arbitrary positional arguments so it will assign the values in it to b and c. d is a default argument so it is \n",
    "optional,a is a positional argument "
   ]
  },
  {
   "cell_type": "code",
   "execution_count": 5,
   "id": "7f1b6142",
   "metadata": {},
   "outputs": [
    {
     "data": {
      "text/plain": [
       "(1, ['x'], {'a': 'y'})"
      ]
     },
     "execution_count": 5,
     "metadata": {},
     "output_type": "execute_result"
    }
   ],
   "source": [
    "#6. what is the result of this, and explain?\n",
    "def func(a, b, c): \n",
    "    a = 2; b[0] = \"x\"; c['a'] = 'y'\n",
    "l=1; m=[1]; n={'a':0}\n",
    "func(l, m, n)\n",
    "\n",
    "l, m, n"
   ]
  },
  {
   "cell_type": "code",
   "execution_count": null,
   "id": "beda6e2d",
   "metadata": {},
   "outputs": [],
   "source": [
    "when immutable objects like numbers(int,float),strings tuples etc.. are passed as arguments in a function call, any changes made\n",
    "in the function does not reflect outside the function (so l=1 remains same outside the function as it is immutable)\n",
    "when mutable objects like list,sets etc are passed as arguments and if a new value is not assigned to it then changes made\n",
    "in the function to that will reflect outside the function \n",
    "so, m[0]=\"x\" and n['a']='y'"
   ]
  },
  {
   "cell_type": "code",
   "execution_count": null,
   "id": "bd480f1c",
   "metadata": {},
   "outputs": [],
   "source": []
  }
 ],
 "metadata": {
  "kernelspec": {
   "display_name": "Python 3 (ipykernel)",
   "language": "python",
   "name": "python3"
  },
  "language_info": {
   "codemirror_mode": {
    "name": "ipython",
    "version": 3
   },
   "file_extension": ".py",
   "mimetype": "text/x-python",
   "name": "python",
   "nbconvert_exporter": "python",
   "pygments_lexer": "ipython3",
   "version": "3.10.9"
  }
 },
 "nbformat": 4,
 "nbformat_minor": 5
}
